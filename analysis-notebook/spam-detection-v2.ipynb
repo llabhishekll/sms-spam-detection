{
 "cells": [
  {
   "cell_type": "markdown",
   "metadata": {
    "_uuid": "bd24724d9fd22fcf34f230499d05e4c83bffd93e"
   },
   "source": [
    "# MESSAGE SPAM DETECTION \n",
    "\n",
    "The purpose of this paper is to explore the results of applying machine learning techniques to Message spam detection. SMS spam (sometimes called cell phone spam) is any junk message delivered to a mobile phone as text messaging through the Short Message Service (SMS). The dataset for this project originates from the [UCI Machine Learning Repository](https://archive.ics.uci.edu/ml/datasets/SMS+Spam+Collection). This dataset is tab-separated values (TSV) file. More detail about dataset can be found on [this page](http://www.dt.fee.unicamp.br/~tiago/smsspamcollection/).\n",
    "* This dataset has been collected from free or free for research sources at the Internet. \n",
    "* The collection is composed by just one text file, where each line has the correct class followed by the raw message."
   ]
  },
  {
   "cell_type": "markdown",
   "metadata": {
    "_uuid": "5f13a45e01757de8324b0a087e157d634ac5d987"
   },
   "source": [
    "## Introduction\n",
    "\n",
    "Mobile phone spam also known as (unsolicited messages, especially advertising), directed at the text messaging or other communications services of mobile phones or smartphones. Fighting SMS spam is complicated by several factors (compared to Internet email), including the lower rate of SMS spam, which has allowed many users and service providers to ignore the issue, and the limited availability of mobile phone spam-filtering software. \n",
    "\n",
    "In the paper we would try to analysis different methods to identify spam/ham messages. We will use different approach to establish relation between the text and the category, based on size of message, word count, special keywords, using term-frequency inverse document-frequency (tf-idf) transform."
   ]
  },
  {
   "cell_type": "markdown",
   "metadata": {
    "_uuid": "1f728547c76d22b7d11e05c7400b497b14dfa83b"
   },
   "source": [
    "## Import Libraries & Data"
   ]
  },
  {
   "cell_type": "code",
   "execution_count": 1,
   "metadata": {
    "_uuid": "65234ce3d80426d8b4954a63abdeda97b94dfd0e"
   },
   "outputs": [],
   "source": [
    "import pandas as pd\n",
    "import numpy as np"
   ]
  },
  {
   "cell_type": "code",
   "execution_count": 2,
   "metadata": {
    "_uuid": "757e6ea16a45b2a065cac438384f89fedc83a879"
   },
   "outputs": [],
   "source": [
    "import seaborn as sns\n",
    "import matplotlib.pyplot as plt\n",
    "\n",
    "%matplotlib inline"
   ]
  },
  {
   "cell_type": "code",
   "execution_count": 3,
   "metadata": {
    "_uuid": "54c6d61938139875d9c7a264c7e2ff424d550cee"
   },
   "outputs": [],
   "source": [
    "data = pd.read_csv(\"./spam.csv\",encoding='latin-1')"
   ]
  },
  {
   "cell_type": "markdown",
   "metadata": {
    "_uuid": "2d9c2ade25f5532de8f8c2da5f830f3a0bc80d24"
   },
   "source": [
    "## Data Exploration"
   ]
  },
  {
   "cell_type": "code",
   "execution_count": 4,
   "metadata": {
    "_uuid": "0f9766edc7580c3c437c734624f511d8e9d6bda7"
   },
   "outputs": [
    {
     "data": {
      "text/html": [
       "<div>\n",
       "<style scoped>\n",
       "    .dataframe tbody tr th:only-of-type {\n",
       "        vertical-align: middle;\n",
       "    }\n",
       "\n",
       "    .dataframe tbody tr th {\n",
       "        vertical-align: top;\n",
       "    }\n",
       "\n",
       "    .dataframe thead th {\n",
       "        text-align: right;\n",
       "    }\n",
       "</style>\n",
       "<table border=\"1\" class=\"dataframe\">\n",
       "  <thead>\n",
       "    <tr style=\"text-align: right;\">\n",
       "      <th></th>\n",
       "      <th>v1</th>\n",
       "      <th>v2</th>\n",
       "      <th>Unnamed: 2</th>\n",
       "      <th>Unnamed: 3</th>\n",
       "      <th>Unnamed: 4</th>\n",
       "    </tr>\n",
       "  </thead>\n",
       "  <tbody>\n",
       "    <tr>\n",
       "      <th>0</th>\n",
       "      <td>ham</td>\n",
       "      <td>Go until jurong point, crazy.. Available only ...</td>\n",
       "      <td>NaN</td>\n",
       "      <td>NaN</td>\n",
       "      <td>NaN</td>\n",
       "    </tr>\n",
       "    <tr>\n",
       "      <th>1</th>\n",
       "      <td>ham</td>\n",
       "      <td>Ok lar... Joking wif u oni...</td>\n",
       "      <td>NaN</td>\n",
       "      <td>NaN</td>\n",
       "      <td>NaN</td>\n",
       "    </tr>\n",
       "    <tr>\n",
       "      <th>2</th>\n",
       "      <td>spam</td>\n",
       "      <td>Free entry in 2 a wkly comp to win FA Cup fina...</td>\n",
       "      <td>NaN</td>\n",
       "      <td>NaN</td>\n",
       "      <td>NaN</td>\n",
       "    </tr>\n",
       "    <tr>\n",
       "      <th>3</th>\n",
       "      <td>ham</td>\n",
       "      <td>U dun say so early hor... U c already then say...</td>\n",
       "      <td>NaN</td>\n",
       "      <td>NaN</td>\n",
       "      <td>NaN</td>\n",
       "    </tr>\n",
       "    <tr>\n",
       "      <th>4</th>\n",
       "      <td>ham</td>\n",
       "      <td>Nah I don't think he goes to usf, he lives aro...</td>\n",
       "      <td>NaN</td>\n",
       "      <td>NaN</td>\n",
       "      <td>NaN</td>\n",
       "    </tr>\n",
       "  </tbody>\n",
       "</table>\n",
       "</div>"
      ],
      "text/plain": [
       "     v1                                                 v2 Unnamed: 2  \\\n",
       "0   ham  Go until jurong point, crazy.. Available only ...        NaN   \n",
       "1   ham                      Ok lar... Joking wif u oni...        NaN   \n",
       "2  spam  Free entry in 2 a wkly comp to win FA Cup fina...        NaN   \n",
       "3   ham  U dun say so early hor... U c already then say...        NaN   \n",
       "4   ham  Nah I don't think he goes to usf, he lives aro...        NaN   \n",
       "\n",
       "  Unnamed: 3 Unnamed: 4  \n",
       "0        NaN        NaN  \n",
       "1        NaN        NaN  \n",
       "2        NaN        NaN  \n",
       "3        NaN        NaN  \n",
       "4        NaN        NaN  "
      ]
     },
     "execution_count": 4,
     "metadata": {},
     "output_type": "execute_result"
    }
   ],
   "source": [
    "data.head()"
   ]
  },
  {
   "cell_type": "code",
   "execution_count": 5,
   "metadata": {
    "_uuid": "cc8629c3b2b2b35cb01b73d5be8e511a849a1b66"
   },
   "outputs": [
    {
     "data": {
      "text/plain": [
       "(5572, 5)"
      ]
     },
     "execution_count": 5,
     "metadata": {},
     "output_type": "execute_result"
    }
   ],
   "source": [
    "data.shape"
   ]
  },
  {
   "cell_type": "code",
   "execution_count": 6,
   "metadata": {
    "_uuid": "a6d928baa54365adccb97cb1317fb06ca39b795d"
   },
   "outputs": [
    {
     "data": {
      "text/plain": [
       "v1               0\n",
       "v2               0\n",
       "Unnamed: 2    5522\n",
       "Unnamed: 3    5560\n",
       "Unnamed: 4    5566\n",
       "dtype: int64"
      ]
     },
     "execution_count": 6,
     "metadata": {},
     "output_type": "execute_result"
    }
   ],
   "source": [
    "data.isnull().sum()"
   ]
  },
  {
   "cell_type": "code",
   "execution_count": 7,
   "metadata": {
    "_uuid": "31c925d2700dbd94920e29fdfa758f0ef1eed394"
   },
   "outputs": [],
   "source": [
    "data.drop(labels=['Unnamed: 2','Unnamed: 3','Unnamed: 4'],axis=1,inplace=True)"
   ]
  },
  {
   "cell_type": "code",
   "execution_count": 8,
   "metadata": {
    "_uuid": "4daf6772107d290a27f87cc362d60e58f6114f09"
   },
   "outputs": [],
   "source": [
    "data.rename(columns={'v1':'Class','v2':'Text'},inplace=True)"
   ]
  },
  {
   "cell_type": "code",
   "execution_count": 9,
   "metadata": {
    "_uuid": "1ff0260a4deb20f9b4f26aaa4a3b6f67ac73f6f8"
   },
   "outputs": [],
   "source": [
    "data['numClass'] = data['Class'].map({'ham':0, 'spam':1})"
   ]
  },
  {
   "cell_type": "code",
   "execution_count": 10,
   "metadata": {
    "_uuid": "5f16dcec3c393e9a7091ea759b767e79af0c9e4a"
   },
   "outputs": [
    {
     "name": "stdout",
     "output_type": "stream",
     "text": [
      "Unique values in the Class set:  ['ham' 'spam']\n"
     ]
    }
   ],
   "source": [
    "# Count the number of words in each Text\n",
    "data['Count']=0\n",
    "for i in np.arange(0,len(data.Text)):\n",
    "    data.loc[i,'Count'] = len(data.loc[i,'Text'])\n",
    "\n",
    "# Unique values in target set\n",
    "print(\"Unique values in the Class set: \", data.Class.unique())"
   ]
  },
  {
   "cell_type": "code",
   "execution_count": 11,
   "metadata": {
    "_uuid": "0712e9fa7c8bd1a584ea433eff3f24e5639905dd"
   },
   "outputs": [
    {
     "data": {
      "text/html": [
       "<div>\n",
       "<style scoped>\n",
       "    .dataframe tbody tr th:only-of-type {\n",
       "        vertical-align: middle;\n",
       "    }\n",
       "\n",
       "    .dataframe tbody tr th {\n",
       "        vertical-align: top;\n",
       "    }\n",
       "\n",
       "    .dataframe thead th {\n",
       "        text-align: right;\n",
       "    }\n",
       "</style>\n",
       "<table border=\"1\" class=\"dataframe\">\n",
       "  <thead>\n",
       "    <tr style=\"text-align: right;\">\n",
       "      <th></th>\n",
       "      <th>Class</th>\n",
       "      <th>Text</th>\n",
       "      <th>numClass</th>\n",
       "      <th>Count</th>\n",
       "    </tr>\n",
       "  </thead>\n",
       "  <tbody>\n",
       "    <tr>\n",
       "      <th>0</th>\n",
       "      <td>ham</td>\n",
       "      <td>Go until jurong point, crazy.. Available only ...</td>\n",
       "      <td>0</td>\n",
       "      <td>111</td>\n",
       "    </tr>\n",
       "    <tr>\n",
       "      <th>1</th>\n",
       "      <td>ham</td>\n",
       "      <td>Ok lar... Joking wif u oni...</td>\n",
       "      <td>0</td>\n",
       "      <td>29</td>\n",
       "    </tr>\n",
       "    <tr>\n",
       "      <th>2</th>\n",
       "      <td>spam</td>\n",
       "      <td>Free entry in 2 a wkly comp to win FA Cup fina...</td>\n",
       "      <td>1</td>\n",
       "      <td>155</td>\n",
       "    </tr>\n",
       "    <tr>\n",
       "      <th>3</th>\n",
       "      <td>ham</td>\n",
       "      <td>U dun say so early hor... U c already then say...</td>\n",
       "      <td>0</td>\n",
       "      <td>49</td>\n",
       "    </tr>\n",
       "    <tr>\n",
       "      <th>4</th>\n",
       "      <td>ham</td>\n",
       "      <td>Nah I don't think he goes to usf, he lives aro...</td>\n",
       "      <td>0</td>\n",
       "      <td>61</td>\n",
       "    </tr>\n",
       "  </tbody>\n",
       "</table>\n",
       "</div>"
      ],
      "text/plain": [
       "  Class                                               Text  numClass  Count\n",
       "0   ham  Go until jurong point, crazy.. Available only ...         0    111\n",
       "1   ham                      Ok lar... Joking wif u oni...         0     29\n",
       "2  spam  Free entry in 2 a wkly comp to win FA Cup fina...         1    155\n",
       "3   ham  U dun say so early hor... U c already then say...         0     49\n",
       "4   ham  Nah I don't think he goes to usf, he lives aro...         0     61"
      ]
     },
     "execution_count": 11,
     "metadata": {},
     "output_type": "execute_result"
    }
   ],
   "source": [
    "# displaying the new table\n",
    "data.head()"
   ]
  },
  {
   "cell_type": "code",
   "execution_count": 12,
   "metadata": {
    "_uuid": "0571fe3b1eccbde41d14e86b2573dde199701a57"
   },
   "outputs": [
    {
     "name": "stdout",
     "output_type": "stream",
     "text": [
      "Number of ham messages in data set: 4825\n",
      "Ham Count value 272\n"
     ]
    }
   ],
   "source": [
    "# collecting ham messages in one place \n",
    "ham  = data[data.numClass == 0]\n",
    "ham_count  = pd.DataFrame(pd.value_counts(ham['Count'],sort=True).sort_index())\n",
    "print(\"Number of ham messages in data set:\", ham['Class'].count())\n",
    "print(\"Ham Count value\", ham_count['Count'].count())"
   ]
  },
  {
   "cell_type": "code",
   "execution_count": 13,
   "metadata": {
    "_uuid": "b222df747fa1d1640524620f42b957a7037cee5d"
   },
   "outputs": [
    {
     "name": "stdout",
     "output_type": "stream",
     "text": [
      "Number of spam messages in data set: 747\n",
      "Spam Count value: 122\n"
     ]
    }
   ],
   "source": [
    "# collecting spam messages in one place \n",
    "spam = data[data.numClass == 1]\n",
    "spam_count = pd.DataFrame(pd.value_counts(spam['Count'],sort=True).sort_index())\n",
    "print(\"Number of spam messages in data set:\", spam['Class'].count())\n",
    "print(\"Spam Count value:\", spam_count['Count'].count())"
   ]
  },
  {
   "cell_type": "code",
   "execution_count": 14,
   "metadata": {},
   "outputs": [
    {
     "data": {
      "image/png": "[encoded data removed]",
      "text/plain": [
       "<Figure size 1224x360 with 1 Axes>"
      ]
     },
     "metadata": {},
     "output_type": "display_data"
    }
   ],
   "source": [
    "fig, ax = plt.subplots(figsize=(17,5))\n",
    "spam_count['Count'].value_counts().sort_index().plot(ax=ax, kind='bar',facecolor='red');\n",
    "ham_count['Count'].value_counts().sort_index().plot(ax=ax, kind='bar',facecolor='green');"
   ]
  },
  {
   "cell_type": "markdown",
   "metadata": {
    "_uuid": "fae9ec583c272ff8dd5d1258eaa8f497015adf7c"
   },
   "source": [
    "## Preparing the Data"
   ]
  },
  {
   "cell_type": "code",
   "execution_count": 15,
   "metadata": {
    "_uuid": "de63be6bafcece52008d72f4cc783bb30dcb1eba"
   },
   "outputs": [],
   "source": [
    "import nltk, os\n",
    "\n",
    "#if true it will download all the stopwords\n",
    "if True:\n",
    "    os.system('python -m nltk.downloader')"
   ]
  },
  {
   "cell_type": "code",
   "execution_count": 16,
   "metadata": {
    "_uuid": "856edc7f8d345b289f8e90db874350fe3b95ec39"
   },
   "outputs": [],
   "source": [
    "# importing Natural Language Toolkit \n",
    "from nltk.corpus import stopwords\n",
    "from sklearn.feature_extraction.text import TfidfVectorizer\n",
    "from sklearn.feature_extraction.text import CountVectorizer\n",
    "\n",
    "#if true will create vectorizer with stopwords\n",
    "if False:\n",
    "    stopset = set(stopwords.words(\"english\"))\n",
    "    vectorizer = TfidfVectorizer(stop_words=stopset,binary=True)"
   ]
  },
  {
   "cell_type": "code",
   "execution_count": 17,
   "metadata": {
    "_uuid": "1a7485bbf8c046a31705549c59c0192d88c77e73"
   },
   "outputs": [],
   "source": [
    "#if true will create vectorizer without any stopwords\n",
    "if True:\n",
    "    vectorizer = TfidfVectorizer()"
   ]
  },
  {
   "cell_type": "code",
   "execution_count": 18,
   "metadata": {
    "_uuid": "bd55a3302ef850d691b5fb7b71e01887f8df6995"
   },
   "outputs": [],
   "source": [
    "# Extract feature column 'Text'\n",
    "X = vectorizer.fit_transform(data.Text)\n",
    "# Extract target column 'Class'\n",
    "y = data.numClass"
   ]
  },
  {
   "cell_type": "code",
   "execution_count": 19,
   "metadata": {
    "_uuid": "7bb4970ebbd80e3097dc6729bb644fc6b3dac5ce"
   },
   "outputs": [
    {
     "name": "stdout",
     "output_type": "stream",
     "text": [
      "Training set has 4457 samples.\n",
      "Testing set has 1115 samples.\n"
     ]
    }
   ],
   "source": [
    "#Shuffle and split the dataset into the number of training and testing points\n",
    "if True: \n",
    "    from sklearn.model_selection import train_test_split\n",
    "    X_train, X_test, y_train, y_test = train_test_split(X, y, test_size=0.20, train_size=0.80, random_state=42)\n",
    "\n",
    "# Show the results of the split\n",
    "print(\"Training set has {} samples.\".format(X_train.shape[0]))\n",
    "print(\"Testing set has {} samples.\".format(X_test.shape[0]))"
   ]
  },
  {
   "cell_type": "markdown",
   "metadata": {
    "_uuid": "21077d54f3c4c78069f1638b8ceb7a9775bc4d5c"
   },
   "source": [
    "## Training and Evaluating Models"
   ]
  },
  {
   "cell_type": "code",
   "execution_count": 22,
   "metadata": {
    "_uuid": "04bce36bb308e37fa395ff7e4a27e6d08b48d3ba"
   },
   "outputs": [],
   "source": [
    "# Import the models from sklearn\n",
    "from sklearn.naive_bayes import MultinomialNB\n",
    "from sklearn.tree import DecisionTreeClassifier\n",
    "from sklearn.neighbors import KNeighborsClassifier\n",
    "from sklearn.ensemble import RandomForestClassifier\n",
    "from sklearn.ensemble import AdaBoostClassifier\n",
    "\n",
    "from sklearn.metrics import f1_score\n",
    "from sklearn.model_selection import learning_curve,validation_curve\n",
    "from sklearn.model_selection import KFold\n",
    "\n",
    "objects = ('Multi-NB', 'DTs', 'AdaBoost', 'KNN', 'RF')"
   ]
  },
  {
   "cell_type": "code",
   "execution_count": 23,
   "metadata": {
    "_uuid": "2e375836c67c411ea67583559c71cc690810b25f"
   },
   "outputs": [],
   "source": [
    "# function to train classifier\n",
    "def train_classifier(clf, X_train, y_train):    \n",
    "    clf.fit(X_train, y_train)\n",
    "\n",
    "# function to predict features \n",
    "def predict_labels(clf, features):\n",
    "    return(clf.predict(features))"
   ]
  },
  {
   "cell_type": "code",
   "execution_count": 24,
   "metadata": {
    "_uuid": "44f7c38be6b65cca2c5eda418adaaeadc106b3df"
   },
   "outputs": [],
   "source": [
    "# Initialize the three models\n",
    "A = MultinomialNB(alpha=1.0,fit_prior=True)\n",
    "B = DecisionTreeClassifier(random_state=42)\n",
    "C = AdaBoostClassifier(n_estimators=100) \n",
    "D = KNeighborsClassifier(n_neighbors=1)\n",
    "E = RandomForestClassifier(n_estimators=10, max_depth=None, min_samples_split=2, random_state=0)"
   ]
  },
  {
   "cell_type": "code",
   "execution_count": 25,
   "metadata": {
    "_uuid": "5a7dc2fab49da4c00845370b721950297f119630"
   },
   "outputs": [
    {
     "name": "stdout",
     "output_type": "stream",
     "text": [
      "0.8372093023255813\n",
      "0.8745762711864407\n",
      "0.9116607773851589\n",
      "0.7854251012145749\n",
      "0.8721804511278195\n"
     ]
    }
   ],
   "source": [
    "# loop to call function for each model\n",
    "clf = [A,B,C,D,E]\n",
    "pred_val = [0,0,0,0,0]\n",
    "\n",
    "for a in range(0,5):\n",
    "    train_classifier(clf[a], X_train, y_train)\n",
    "    y_pred = predict_labels(clf[a],X_test)\n",
    "    pred_val[a] = f1_score(y_test, y_pred) \n",
    "    print(pred_val[a])"
   ]
  },
  {
   "cell_type": "code",
   "execution_count": 26,
   "metadata": {
    "_uuid": "3b9a193d876012fc61a4763af913a410a3fdc755"
   },
   "outputs": [
    {
     "data": {
      "image/png": "[encoded data removed]",
      "text/plain": [
       "<Figure size 432x288 with 1 Axes>"
      ]
     },
     "metadata": {},
     "output_type": "display_data"
    }
   ],
   "source": [
    "# ploating data for F1 Score\n",
    "y_pos = np.arange(len(objects))\n",
    "y_val = [ x for x in pred_val]\n",
    "plt.bar(y_pos,y_val, align='center', alpha=0.7)\n",
    "plt.xticks(y_pos, objects)\n",
    "plt.ylabel('Accuracy Score')\n",
    "plt.title('Accuracy of Models')\n",
    "plt.show()"
   ]
  },
  {
   "cell_type": "code",
   "execution_count": 27,
   "metadata": {
    "_uuid": "36f21c459a815d29a3fd8b0f6c9452ebefd18b9f"
   },
   "outputs": [
    {
     "data": {
      "image/png": "[encoded data removed]",
      "text/plain": [
       "<Figure size 432x288 with 1 Axes>"
      ]
     },
     "metadata": {},
     "output_type": "display_data"
    }
   ],
   "source": [
    "# defining the variable for learning curve\n",
    "size, score, cv = np.linspace(.1, 1.0, 5), 'f1', KFold( n_splits= 5, random_state= 42)\n",
    "\n",
    "# calling the learning_curve function from defined variables\n",
    "size, train, test = learning_curve(C, X, y, cv= cv, scoring=score, n_jobs=1, train_sizes=size)\n",
    "\n",
    "# Mean and standard deviation of train and test score\n",
    "train_mean,test_mean  =  np.mean( train, axis=1), np.mean( test, axis=1)\n",
    "train_std,  test_std  =  np.std(train, axis=1) , np.std(test, axis=1)\n",
    "\n",
    "# Ploating the Grid\n",
    "plt.grid()\n",
    "\n",
    "# Ploating the curve \n",
    "plt.fill_between(size, train_mean - train_std, train_mean + train_std, alpha=0.1,color=\"r\")\n",
    "plt.fill_between(size,  test_mean - test_std,   test_mean + test_std,  alpha=0.1,color=\"g\")\n",
    "\n",
    "# Ploating the axis name and legend \n",
    "plt.plot(size, train_mean, 'o-', color=\"r\",label=\"Training score\")\n",
    "plt.plot(size, test_mean, 'o-', color=\"g\", label=\"Cross-validation score\")\n",
    "plt.legend(loc=\"best\");"
   ]
  },
  {
   "cell_type": "markdown",
   "metadata": {
    "_uuid": "ec9801928077ce2636073a6bd0b919d25a1bf5be"
   },
   "source": [
    "## Result Analysis"
   ]
  },
  {
   "cell_type": "code",
   "execution_count": 28,
   "metadata": {
    "_uuid": "002e52c521374aa43a1a224235731d09890a1ae8"
   },
   "outputs": [
    {
     "data": {
      "image/png": "[encoded data removed]",
      "text/plain": [
       "<Figure size 432x288 with 1 Axes>"
      ]
     },
     "metadata": {},
     "output_type": "display_data"
    }
   ],
   "source": [
    "# ploating data for Accuracy Score\n",
    "# ploating data for Accuracy of Models between 1.00 - 0.90 for better visualization\n",
    "objects = ('','Untunded', 'Tuned','')\n",
    "y_pos = np.arange(4)\n",
    "y_val = [0,0.03470790378,0.037062937063,0 ]\n",
    "plt.bar(y_pos,y_val, align='center',width = 0.5, alpha=0.6)\n",
    "plt.xticks(y_pos, objects)\n",
    "plt.ylabel('Accuracy Score')\n",
    "plt.title('Accuracy of AdaBoost')\n",
    "plt.show()"
   ]
  }
 ],
 "metadata": {
  "kernelspec": {
   "display_name": "Python 3",
   "language": "python",
   "name": "python3"
  },
  "language_info": {
   "codemirror_mode": {
    "name": "ipython",
    "version": 3
   },
   "file_extension": ".py",
   "mimetype": "text/x-python",
   "name": "python",
   "nbconvert_exporter": "python",
   "pygments_lexer": "ipython3",
   "version": "3.7.3"
  }
 },
 "nbformat": 4,
 "nbformat_minor": 1
}
